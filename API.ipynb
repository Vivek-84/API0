{
 "cells": [
  {
   "cell_type": "markdown",
   "id": "09ad66e1",
   "metadata": {},
   "source": [
    "# What is an API? Give an example, where an API is used in real life"
   ]
  },
  {
   "cell_type": "code",
   "execution_count": 1,
   "id": "f884e76e",
   "metadata": {},
   "outputs": [],
   "source": [
    "# APIs are mechanisms that enable two software components to communicate with each other using a set of definitions and protocols.\n",
    "\n",
    "# for example Zomato and Google Map, Zomato doesn't have any satelite but it reflects the location of delivery boy because of \n",
    "# Google Map API for this purpose Google Map shares an API key to Zomato for the communication with it. \n",
    "\n"
   ]
  },
  {
   "cell_type": "markdown",
   "id": "fc597061",
   "metadata": {},
   "source": [
    "# Give advantages and disadvantages of using API. "
   ]
  },
  {
   "cell_type": "code",
   "execution_count": 2,
   "id": "ba1cca1f",
   "metadata": {},
   "outputs": [],
   "source": [
    "# Advantage:\n",
    "# Integration: The best feature of API is that it allows the movement of data between various sites and thus enhances the \n",
    "# integrated user experience.\n",
    "\n",
    "#Scalability: Development teams can scale the product without much difficulty because there is a separation between the client \n",
    "#and the server.\n",
    "\n",
    "# Improved Efficiency: API driven infrastructures enable developers to reuse code and functionality from existing software systems\n",
    "# saving time and reducing the amount of code that needs to be written from scratch.\n",
    "\n",
    "# Increased Flexibility: APIs provide developers with greater flexibility, enabling them to choose the best programming languages \n",
    "# and frameworks for their needs.\n",
    "\n",
    "# Better User Experience: APIs can enable third-party developers to create applications that integrate with existing software \n",
    "# systems, providing a better user experience and increased functionality.\n",
    "\n",
    "# Disadvantage: \n",
    "# Security Risks: When using an API web-server interface, businesses are exposing their data to potential security risks.\n",
    "# This is because the API is essentially a bridge between the business and the web server, and any malicious actors could \n",
    "# potentially gain access to the data. To mitigate the risk  using strong passwords, two-factor authentication, and other \n",
    "# security measures.\n",
    "\n",
    "# Specialized Knowledge:\n",
    "# Using an API web-server interface requires specialized knowledge.This is because the API is essentially a programming language.\n",
    "# and businesses need to understand how to use it in order to access and manage their data. This means that businesses need to \n",
    "# either hire someone with the necessary knowledge, or they need to invest in training their existing staff.\n",
    "\n",
    "# Maintenance\n",
    "# Using an API web-server interface also requires ongoing maintenance. This is because the API needs to be regularly updated in \n",
    "# order to ensure that it is secure and compatible with the web server.\n"
   ]
  },
  {
   "cell_type": "markdown",
   "id": "b989caef",
   "metadata": {},
   "source": [
    "# What is a Web API? Differentiate between API and Web API."
   ]
  },
  {
   "cell_type": "code",
   "execution_count": 3,
   "id": "4e4ffe92",
   "metadata": {},
   "outputs": [],
   "source": [
    "# A Web API is an application programming interface for the Web.\n",
    "\n",
    "# The key distinction is that web services are a type of API, All web services are APIs, but not all APIs are web services.\n",
    "# 'API' is the broader category because, by definition, it refers to any software component that acts as an intermediary\n",
    "# between two otherwise disconnected applications."
   ]
  },
  {
   "cell_type": "markdown",
   "id": "7e670717",
   "metadata": {},
   "source": [
    "# Explain REST and SOAP Architecture. Mention shortcomings of SOAP."
   ]
  },
  {
   "cell_type": "code",
   "execution_count": 5,
   "id": "4ac63532",
   "metadata": {},
   "outputs": [],
   "source": [
    "# REST:\n",
    "# REST stands for REpresentational State Transfer. REST is a software \n",
    "# architectural style that defines the set of rules to be used for creating web services. Web services which follow the REST \n",
    "# architectural style are known as RESTful web services.\n",
    "\n",
    "# SOAP:SOAP is a protocol for the exchange of information in a distributed environment. SOAP messages are encoded as XML \n",
    "# documents and can be exchanged using various underlying protocols.\n",
    "# he SOAP web services architecture is based on interactions between three components: a service provider, a service requester, \n",
    "# and an optional service registry.\n",
    "\n",
    "# The shortcoming of the SOAP protocols are: SOAP is used only XML format data in web service, whereas JSON and other \n",
    "# lightweight formats are not supported by it. It is slow because it uses XML format, whereas the payload for a simple string \n",
    "# message is large. There are no security features in the SOAP specification."
   ]
  },
  {
   "cell_type": "markdown",
   "id": "b8561187",
   "metadata": {},
   "source": [
    "# Differentiate between REST and SOAP."
   ]
  },
  {
   "cell_type": "code",
   "execution_count": 6,
   "id": "d3d7114a",
   "metadata": {},
   "outputs": [],
   "source": [
    "# REST Architecture:\n",
    "# Relies on REST (Representational State Transfer) architecture using HTTP.\n",
    "# Generally transports data in JSON. It is based on URI. Because REST follows stateless model, REST does not enforces message \n",
    "# format as XML or JSON etc.\n",
    "# It works with GET, POST, PUT, DELETE.\n",
    "# Works over HTTP and HTTPS.\n",
    "# Designed with mobile devices in mind.\n",
    "\n",
    "# SOAP Architecture:\n",
    "# Relies on SOAP (Simple Object Access Protocol).\n",
    "# Transports data in standard XML format.\n",
    "# Because it is XML based and relies on SOAP, it works with WSDL.\n",
    "# Works over HTTP, HTTPS, SMTP, XMPP.\n",
    "# Designed with large enterprise applications in mind"
   ]
  },
  {
   "cell_type": "code",
   "execution_count": null,
   "id": "9f17a936",
   "metadata": {},
   "outputs": [],
   "source": []
  }
 ],
 "metadata": {
  "kernelspec": {
   "display_name": "Python 3 (ipykernel)",
   "language": "python",
   "name": "python3"
  },
  "language_info": {
   "codemirror_mode": {
    "name": "ipython",
    "version": 3
   },
   "file_extension": ".py",
   "mimetype": "text/x-python",
   "name": "python",
   "nbconvert_exporter": "python",
   "pygments_lexer": "ipython3",
   "version": "3.11.4"
  }
 },
 "nbformat": 4,
 "nbformat_minor": 5
}
